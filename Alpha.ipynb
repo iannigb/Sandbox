{
 "cells": [
  {
   "cell_type": "code",
   "execution_count": 36,
   "id": "4b16f4a2",
   "metadata": {},
   "outputs": [
    {
     "data": {
      "application/vnd.jupyter.widget-view+json": {
       "model_id": "81bfda21882a482ea4fe8ac0f2417d88",
       "version_major": 2,
       "version_minor": 0
      },
      "text/plain": [
       "interactive(children=(FloatSlider(value=0.5, description='alpha', max=1.0, step=0.01), Output()), _dom_classes…"
      ]
     },
     "metadata": {},
     "output_type": "display_data"
    },
    {
     "data": {
      "text/plain": [
       "<function __main__.makePlot(alpha)>"
      ]
     },
     "execution_count": 36,
     "metadata": {},
     "output_type": "execute_result"
    }
   ],
   "source": [
    "%matplotlib inline\n",
    "\n",
    "from matplotlib import pyplot as plt\n",
    "from ipywidgets import interact,interactive,FloatSlider\n",
    "\n",
    "\n",
    "def makePlot(alpha):\n",
    "\n",
    "    sampleRTT = [0,1,12.3,13,14,13,6,7,3,9,2,27,30,36,60,60,60,60,3,3,3,3,3,3,3,3]\n",
    "    estimatedRTT = [ sampleRTT[0] ]\n",
    "    \n",
    "    for i in range(1,len(sampleRTT)):\n",
    "        estimatedRTT.append((1-alpha)*estimatedRTT[i-1]+ alpha*sampleRTT[i])\n",
    "    \n",
    "    plt.plot(sampleRTT, label='Sample RTT')\n",
    "    plt.plot(estimatedRTT, label = 'Estimated RTT')\n",
    "    plt.xlabel('Sample')\n",
    "    plt.ylabel('Time')\n",
    "    plt.legend()\n",
    "    plt.show()\n",
    "    \n",
    "interact(makePlot,alpha=FloatSlider(min=0.0,max=1.0,step=0.01,value=0.5))\n",
    "\n"
   ]
  },
  {
   "cell_type": "code",
   "execution_count": null,
   "id": "21729ccd",
   "metadata": {},
   "outputs": [],
   "source": []
  }
 ],
 "metadata": {
  "kernelspec": {
   "display_name": "Python 3",
   "language": "python",
   "name": "python3"
  },
  "language_info": {
   "codemirror_mode": {
    "name": "ipython",
    "version": 3
   },
   "file_extension": ".py",
   "mimetype": "text/x-python",
   "name": "python",
   "nbconvert_exporter": "python",
   "pygments_lexer": "ipython3",
   "version": "3.8.8"
  }
 },
 "nbformat": 4,
 "nbformat_minor": 5
}
